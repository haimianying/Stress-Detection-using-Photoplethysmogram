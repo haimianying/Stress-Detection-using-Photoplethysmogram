{
 "cells": [
  {
   "cell_type": "code",
   "execution_count": 1,
   "metadata": {},
   "outputs": [],
   "source": [
    "import wfdb as w\n",
    "import pandas as pd\n",
    "import matplotlib.pyplot as plt\n",
    "import heartpy as hp\n",
    "import numpy as np\n",
    "from scipy import signal \n",
    "import seaborn as sns"
   ]
  },
  {
   "cell_type": "code",
   "execution_count": 2,
   "metadata": {},
   "outputs": [],
   "source": [
    "# Read the signal\n",
    "sig1, field1 = w.rdsamp(\"s1_high_resistance_bike\")\n",
    "sig2, field2 = w.rdsamp(\"s1_low_resistance_bike\")\n",
    "sig3, field3 = w.rdsamp(\"s1_walk\")\n",
    "sig4, field4 = w.rdsamp(\"s2_high_resistance_bike\")\n",
    "sig5, field5 = w.rdsamp(\"s2_low_resistance_bike\")\n",
    "sig6, field6 = w.rdsamp(\"s2_walk\")\n",
    "sig7, field7 = w.rdsamp(\"s3_high_resistance_bike\")\n",
    "sig8, field8 = w.rdsamp(\"s3_low_resistance_bike\")\n",
    "sig9, field9 = w.rdsamp(\"s3_run\")\n",
    "sig10, field10 = w.rdsamp(\"s3_walk\")\n",
    "sig11, field11 = w.rdsamp(\"s4_run\")\n",
    "sig12, field12 = w.rdsamp(\"s5_low_resistance_bike\")\n",
    "sig13, field13 = w.rdsamp(\"s5_run\")\n",
    "sig14, field14 = w.rdsamp(\"s6_low_resistance_bike\")\n",
    "sig15, field15 = w.rdsamp(\"s6_run\")\n",
    "sig16, field16 = w.rdsamp(\"s6_walk\")\n",
    "sig17, field17 = w.rdsamp(\"s8_run\")\n",
    "sig18, field18 = w.rdsamp(\"s8_walk\")\n",
    "sig19, field19 = w.rdsamp(\"s9_walk\")"
   ]
  },
  {
   "cell_type": "code",
   "execution_count": 3,
   "metadata": {},
   "outputs": [
    {
     "data": {
      "text/plain": [
       "19"
      ]
     },
     "execution_count": 3,
     "metadata": {},
     "output_type": "execute_result"
    }
   ],
   "source": [
    "#Convert the signal into dataframe\n",
    "signal_ = [sig1,sig2,sig3,sig4,sig5,sig6,sig7,sig8,sig9,sig10,sig11,sig12,sig13,sig14,sig15,sig16,sig17,sig18,sig19]\n",
    "ppg = []\n",
    "\n",
    "for sig in signal_:\n",
    "    sig = pd.DataFrame(sig)\n",
    "    ppg.append(sig[1])\n",
    "len(ppg)"
   ]
  },
  {
   "cell_type": "code",
   "execution_count": 4,
   "metadata": {},
   "outputs": [],
   "source": [
    "# Preprocess function\n",
    "def preprocess_ppg(df,fs=\"none\",duration=\"none\"):\n",
    "    df.replace([np.inf, -np.inf], 0)\n",
    "    data = df.to_numpy()\n",
    "    data = data.flatten()\n",
    "    data = np.nan_to_num(data)\n",
    "\n",
    "    data_detrend = signal.detrend(data)\n",
    "#     plt.figure()\n",
    "    #plt.plot(data_detrend[0:2560])\n",
    "\n",
    "    filtered_ppg = hp.filter_signal(data_detrend,\n",
    "                                        cutoff=[0.8, 2.5],\n",
    "                                        filtertype='bandpass',\n",
    "                                        sample_rate=256,\n",
    "                                        order=3,\n",
    "                                        return_top=False)\n",
    "#     plt.figure()\n",
    "#     plt.plot(filtered_ppg[0:2000])\n",
    "\n",
    "    wd, m = hp.process(filtered_ppg,256,report_time = True)\n",
    "#     plt.figure()\n",
    "#     plt.xlim(0, 2000)\n",
    "#     hp.plotter(wd, m)\n",
    "\n",
    "    return filtered_ppg"
   ]
  },
  {
   "cell_type": "code",
   "execution_count": 7,
   "metadata": {},
   "outputs": [
    {
     "name": "stdout",
     "output_type": "stream",
     "text": [
      "\n",
      "Finished in 0.545416 sec\n",
      "\n",
      "Finished in 0.367229 sec\n",
      "\n",
      "Finished in 0.399229 sec\n",
      "\n",
      "Finished in 0.322793 sec\n",
      "\n",
      "Finished in 0.230475 sec\n",
      "\n",
      "Finished in 0.349277 sec\n",
      "\n",
      "Finished in 0.113062 sec\n",
      "\n",
      "Finished in 0.205982 sec\n",
      "\n",
      "Finished in 0.339474 sec\n",
      "\n",
      "Finished in 0.214940 sec\n",
      "\n",
      "Finished in 0.171202 sec\n",
      "\n",
      "Finished in 0.170353 sec\n",
      "\n",
      "Finished in 0.128361 sec\n",
      "\n",
      "Finished in 0.195377 sec\n",
      "\n",
      "Finished in 0.245913 sec\n",
      "\n",
      "Finished in 0.259993 sec\n"
     ]
    },
    {
     "name": "stderr",
     "output_type": "stream",
     "text": [
      "/Users/mannika/opt/anaconda3/lib/python3.7/site-packages/scipy/interpolate/fitpack2.py:232: UserWarning: \n",
      "The maximal number of iterations maxit (set to 20 by the program)\n",
      "allowed for finding a smoothing spline with fp=s has been reached: s\n",
      "too small.\n",
      "There is an approximation returned but the corresponding weighted sum\n",
      "of squared residuals does not satisfy the condition abs(fp-s)/s < tol.\n",
      "  warnings.warn(message)\n"
     ]
    },
    {
     "name": "stdout",
     "output_type": "stream",
     "text": [
      "\n",
      "Finished in 0.258183 sec\n",
      "\n",
      "Finished in 0.384705 sec\n",
      "\n",
      "Finished in 0.144733 sec\n"
     ]
    },
    {
     "data": {
      "text/plain": [
       "19"
      ]
     },
     "execution_count": 7,
     "metadata": {},
     "output_type": "execute_result"
    }
   ],
   "source": [
    "data =[]\n",
    "for sig in ppg:\n",
    "    d = preprocess_ppg(sig,fs=256)\n",
    "    data.append(d)\n",
    "    \n",
    "len(data)"
   ]
  },
  {
   "cell_type": "code",
   "execution_count": 8,
   "metadata": {},
   "outputs": [
    {
     "name": "stderr",
     "output_type": "stream",
     "text": [
      "/Users/mannika/opt/anaconda3/lib/python3.7/site-packages/numpy/ma/core.py:5216: RuntimeWarning: Mean of empty slice.\n",
      "  dtype=dtype, **kwargs)[()]\n",
      "/Users/mannika/opt/anaconda3/lib/python3.7/site-packages/numpy/core/fromnumeric.py:3584: RuntimeWarning: Degrees of freedom <= 0 for slice\n",
      "  **kwargs)\n",
      "/Users/mannika/opt/anaconda3/lib/python3.7/site-packages/numpy/core/fromnumeric.py:3335: RuntimeWarning: Mean of empty slice.\n",
      "  out=out, **kwargs)\n",
      "/Users/mannika/opt/anaconda3/lib/python3.7/site-packages/numpy/core/_methods.py:217: RuntimeWarning: Degrees of freedom <= 0 for slice\n",
      "  keepdims=keepdims)\n"
     ]
    }
   ],
   "source": [
    "# Extract Features in a window of 4 sec and overlap of 0.1\n",
    "fs = 256\n",
    "wd = []\n",
    "m = []\n",
    "\n",
    "for sig in data:\n",
    "    w_,m_ = hp.process_segmentwise(sig,fs, segment_width=4, segment_overlap=0.1)\n",
    "    wd.append(w_)\n",
    "    m.append(m_)"
   ]
  },
  {
   "cell_type": "code",
   "execution_count": 9,
   "metadata": {},
   "outputs": [],
   "source": [
    "def clean_data(m):\n",
    "    df = pd.DataFrame(m) \n",
    "    df = df.replace([np.inf, -np.inf], np.nan)\n",
    "    df = df.fillna(0)\n",
    "    df = df.drop([\"breathingrate\",\"segment_indices\"],1)\n",
    "    return df"
   ]
  },
  {
   "cell_type": "code",
   "execution_count": 10,
   "metadata": {},
   "outputs": [
    {
     "data": {
      "text/html": [
       "<div>\n",
       "<style scoped>\n",
       "    .dataframe tbody tr th:only-of-type {\n",
       "        vertical-align: middle;\n",
       "    }\n",
       "\n",
       "    .dataframe tbody tr th {\n",
       "        vertical-align: top;\n",
       "    }\n",
       "\n",
       "    .dataframe thead th {\n",
       "        text-align: right;\n",
       "    }\n",
       "</style>\n",
       "<table border=\"1\" class=\"dataframe\">\n",
       "  <thead>\n",
       "    <tr style=\"text-align: right;\">\n",
       "      <th></th>\n",
       "      <th>bpm</th>\n",
       "      <th>ibi</th>\n",
       "      <th>sdnn</th>\n",
       "      <th>rmssd</th>\n",
       "      <th>pnn20</th>\n",
       "      <th>pnn50</th>\n",
       "      <th>hr_mad</th>\n",
       "      <th>sd1</th>\n",
       "      <th>sd2</th>\n",
       "      <th>s</th>\n",
       "      <th>sd1/sd2</th>\n",
       "    </tr>\n",
       "  </thead>\n",
       "  <tbody>\n",
       "    <tr>\n",
       "      <th>count</th>\n",
       "      <td>1873.000000</td>\n",
       "      <td>1873.000000</td>\n",
       "      <td>1873.000000</td>\n",
       "      <td>1873.000000</td>\n",
       "      <td>1873.000000</td>\n",
       "      <td>1873.000000</td>\n",
       "      <td>1873.000000</td>\n",
       "      <td>1873.000000</td>\n",
       "      <td>1873.000000</td>\n",
       "      <td>1873.000000</td>\n",
       "      <td>1873.000000</td>\n",
       "    </tr>\n",
       "    <tr>\n",
       "      <th>mean</th>\n",
       "      <td>104.792459</td>\n",
       "      <td>577.489324</td>\n",
       "      <td>88.229201</td>\n",
       "      <td>138.507782</td>\n",
       "      <td>0.834945</td>\n",
       "      <td>0.697198</td>\n",
       "      <td>59.564577</td>\n",
       "      <td>82.651134</td>\n",
       "      <td>58.668025</td>\n",
       "      <td>21609.443733</td>\n",
       "      <td>2.099841</td>\n",
       "    </tr>\n",
       "    <tr>\n",
       "      <th>std</th>\n",
       "      <td>21.451990</td>\n",
       "      <td>124.585357</td>\n",
       "      <td>52.747951</td>\n",
       "      <td>87.417926</td>\n",
       "      <td>0.278888</td>\n",
       "      <td>0.324700</td>\n",
       "      <td>46.360029</td>\n",
       "      <td>60.858309</td>\n",
       "      <td>53.825928</td>\n",
       "      <td>26640.022492</td>\n",
       "      <td>4.804172</td>\n",
       "    </tr>\n",
       "    <tr>\n",
       "      <th>min</th>\n",
       "      <td>0.000000</td>\n",
       "      <td>0.000000</td>\n",
       "      <td>0.000000</td>\n",
       "      <td>0.000000</td>\n",
       "      <td>0.000000</td>\n",
       "      <td>0.000000</td>\n",
       "      <td>0.000000</td>\n",
       "      <td>0.000000</td>\n",
       "      <td>0.000000</td>\n",
       "      <td>0.000000</td>\n",
       "      <td>0.000000</td>\n",
       "    </tr>\n",
       "    <tr>\n",
       "      <th>25%</th>\n",
       "      <td>92.978208</td>\n",
       "      <td>502.790179</td>\n",
       "      <td>45.204337</td>\n",
       "      <td>71.424938</td>\n",
       "      <td>0.750000</td>\n",
       "      <td>0.500000</td>\n",
       "      <td>25.390625</td>\n",
       "      <td>36.239695</td>\n",
       "      <td>17.082867</td>\n",
       "      <td>2028.585379</td>\n",
       "      <td>0.751376</td>\n",
       "    </tr>\n",
       "    <tr>\n",
       "      <th>50%</th>\n",
       "      <td>106.666667</td>\n",
       "      <td>559.895833</td>\n",
       "      <td>82.633577</td>\n",
       "      <td>128.906250</td>\n",
       "      <td>1.000000</td>\n",
       "      <td>0.750000</td>\n",
       "      <td>46.875000</td>\n",
       "      <td>75.555398</td>\n",
       "      <td>41.075002</td>\n",
       "      <td>9670.438782</td>\n",
       "      <td>1.373168</td>\n",
       "    </tr>\n",
       "    <tr>\n",
       "      <th>75%</th>\n",
       "      <td>118.675497</td>\n",
       "      <td>640.625000</td>\n",
       "      <td>128.154373</td>\n",
       "      <td>194.186206</td>\n",
       "      <td>1.000000</td>\n",
       "      <td>1.000000</td>\n",
       "      <td>82.031250</td>\n",
       "      <td>124.591618</td>\n",
       "      <td>90.867133</td>\n",
       "      <td>34151.944915</td>\n",
       "      <td>2.214630</td>\n",
       "    </tr>\n",
       "    <tr>\n",
       "      <th>max</th>\n",
       "      <td>301.176471</td>\n",
       "      <td>1128.906250</td>\n",
       "      <td>287.109375</td>\n",
       "      <td>492.187500</td>\n",
       "      <td>1.000000</td>\n",
       "      <td>1.000000</td>\n",
       "      <td>287.109375</td>\n",
       "      <td>324.550964</td>\n",
       "      <td>288.167030</td>\n",
       "      <td>143831.751859</td>\n",
       "      <td>139.000000</td>\n",
       "    </tr>\n",
       "  </tbody>\n",
       "</table>\n",
       "</div>"
      ],
      "text/plain": [
       "               bpm          ibi         sdnn        rmssd        pnn20  \\\n",
       "count  1873.000000  1873.000000  1873.000000  1873.000000  1873.000000   \n",
       "mean    104.792459   577.489324    88.229201   138.507782     0.834945   \n",
       "std      21.451990   124.585357    52.747951    87.417926     0.278888   \n",
       "min       0.000000     0.000000     0.000000     0.000000     0.000000   \n",
       "25%      92.978208   502.790179    45.204337    71.424938     0.750000   \n",
       "50%     106.666667   559.895833    82.633577   128.906250     1.000000   \n",
       "75%     118.675497   640.625000   128.154373   194.186206     1.000000   \n",
       "max     301.176471  1128.906250   287.109375   492.187500     1.000000   \n",
       "\n",
       "             pnn50       hr_mad          sd1          sd2              s  \\\n",
       "count  1873.000000  1873.000000  1873.000000  1873.000000    1873.000000   \n",
       "mean      0.697198    59.564577    82.651134    58.668025   21609.443733   \n",
       "std       0.324700    46.360029    60.858309    53.825928   26640.022492   \n",
       "min       0.000000     0.000000     0.000000     0.000000       0.000000   \n",
       "25%       0.500000    25.390625    36.239695    17.082867    2028.585379   \n",
       "50%       0.750000    46.875000    75.555398    41.075002    9670.438782   \n",
       "75%       1.000000    82.031250   124.591618    90.867133   34151.944915   \n",
       "max       1.000000   287.109375   324.550964   288.167030  143831.751859   \n",
       "\n",
       "           sd1/sd2  \n",
       "count  1873.000000  \n",
       "mean      2.099841  \n",
       "std       4.804172  \n",
       "min       0.000000  \n",
       "25%       0.751376  \n",
       "50%       1.373168  \n",
       "75%       2.214630  \n",
       "max     139.000000  "
      ]
     },
     "execution_count": 10,
     "metadata": {},
     "output_type": "execute_result"
    }
   ],
   "source": [
    "# Clean the data and combine to form a single dataframe\n",
    "frames = []\n",
    "\n",
    "for m_ in m:\n",
    "    frames.append(clean_data(m_))\n",
    "\n",
    "X = pd.concat(frames)\n",
    "X.describe()"
   ]
  },
  {
   "cell_type": "code",
   "execution_count": 11,
   "metadata": {},
   "outputs": [
    {
     "data": {
      "text/plain": [
       "array([0.60466943])"
      ]
     },
     "execution_count": 11,
     "metadata": {},
     "output_type": "execute_result"
    }
   ],
   "source": [
    "# Apply K-means clustering \n",
    "\n",
    "from sklearn.preprocessing import MinMaxScaler\n",
    "from sklearn.cluster import KMeans\n",
    "r = X[\"pnn50\"].to_numpy().reshape(-1,1)\n",
    "scaler = MinMaxScaler()\n",
    "r = scaler.fit_transform(r)\n",
    "r = pd.DataFrame(r)\n",
    "r = r.replace([np.inf, -np.inf], np.nan)\n",
    "r = r.fillna(0)\n",
    "kmeans = KMeans(n_clusters=2, max_iter=600, algorithm = 'auto')\n",
    "kmeans.fit(r)\n",
    "centroids = kmeans.cluster_centers_\n",
    "abs(centroids[0]-centroids[1])"
   ]
  },
  {
   "cell_type": "code",
   "execution_count": 12,
   "metadata": {},
   "outputs": [
    {
     "name": "stdout",
     "output_type": "stream",
     "text": [
      "1873\n"
     ]
    }
   ],
   "source": [
    "# Obtain the labels\n",
    "\n",
    "labels = kmeans.predict(r)\n",
    "print(len(labels))"
   ]
  },
  {
   "cell_type": "code",
   "execution_count": 13,
   "metadata": {},
   "outputs": [
    {
     "data": {
      "text/plain": [
       "<matplotlib.axes._subplots.AxesSubplot at 0x1a2ab26ad0>"
      ]
     },
     "execution_count": 13,
     "metadata": {},
     "output_type": "execute_result"
    },
    {
     "data": {
      "text/plain": [
       "<Figure size 432x288 with 0 Axes>"
      ]
     },
     "metadata": {},
     "output_type": "display_data"
    },
    {
     "data": {
      "image/png": "[encoded data removed]",
      "text/plain": [
       "<Figure size 432x288 with 1 Axes>"
      ]
     },
     "metadata": {
      "needs_background": "light"
     },
     "output_type": "display_data"
    }
   ],
   "source": [
    "# Count the labels for 0 and 1\n",
    "l = pd.DataFrame(labels)\n",
    "c =l[0].value_counts()\n",
    "df_plot  = pd.DataFrame([c[1],c[0]])\n",
    "plt.figure()\n",
    "df_plot.index=['stress','normal']\n",
    "\n",
    "# Plot\n",
    "df_plot.plot(kind='bar', title='Data Analysis')\n"
   ]
  },
  {
   "cell_type": "code",
   "execution_count": 14,
   "metadata": {},
   "outputs": [],
   "source": [
    "# save the features and labels in Features.csv file\n",
    "\n",
    "label = pd.DataFrame(labels,columns=['Label'])\n",
    "label.shape\n",
    "X[\"Label\"] = l\n",
    "X.head()\n",
    "ans = X.to_csv('Feature.csv')"
   ]
  },
  {
   "cell_type": "markdown",
   "metadata": {},
   "source": [
    "## TPOT"
   ]
  },
  {
   "cell_type": "code",
   "execution_count": 35,
   "metadata": {},
   "outputs": [
    {
     "name": "stderr",
     "output_type": "stream",
     "text": [
      "/Users/mannika/opt/anaconda3/lib/python3.7/site-packages/numpy/core/_asarray.py:85: UserWarning: Warning: converting a masked element to nan.\n",
      "  return array(a, dtype, copy=False, order=order)\n",
      "/Users/mannika/opt/anaconda3/lib/python3.7/site-packages/numpy/core/_asarray.py:85: UserWarning: Warning: converting a masked element to nan.\n",
      "  return array(a, dtype, copy=False, order=order)\n",
      "/Users/mannika/opt/anaconda3/lib/python3.7/site-packages/numpy/core/_asarray.py:85: UserWarning: Warning: converting a masked element to nan.\n",
      "  return array(a, dtype, copy=False, order=order)\n",
      "/Users/mannika/opt/anaconda3/lib/python3.7/site-packages/numpy/core/_asarray.py:85: UserWarning: Warning: converting a masked element to nan.\n",
      "  return array(a, dtype, copy=False, order=order)\n",
      "/Users/mannika/opt/anaconda3/lib/python3.7/site-packages/sklearn/utils/validation.py:760: DataConversionWarning: A column-vector y was passed when a 1d array was expected. Please change the shape of y to (n_samples, ), for example using ravel().\n",
      "  y = column_or_1d(y, warn=True)\n"
     ]
    },
    {
     "name": "stdout",
     "output_type": "stream",
     "text": [
      "Imputing missing values in feature set\n"
     ]
    },
    {
     "data": {
      "application/vnd.jupyter.widget-view+json": {
       "model_id": "",
       "version_major": 2,
       "version_minor": 0
      },
      "text/plain": [
       "HBox(children=(FloatProgress(value=0.0, description='Optimization Progress', max=220.0, style=ProgressStyle(de…"
      ]
     },
     "metadata": {},
     "output_type": "display_data"
    },
    {
     "name": "stdout",
     "output_type": "stream",
     "text": [
      "Generation 1 - Current best internal CV score: 0.9332597547380155\n",
      "Generation 2 - Current best internal CV score: 0.9332597547380155\n",
      "Generation 3 - Current best internal CV score: 0.9332597547380155\n",
      "Generation 4 - Current best internal CV score: 0.9352686733556299\n",
      "Generation 5 - Current best internal CV score: 0.9365975473801562\n",
      "Generation 6 - Current best internal CV score: 0.9365975473801562\n",
      "Generation 7 - Current best internal CV score: 0.9372664437012264\n",
      "Generation 8 - Current best internal CV score: 0.9372664437012264\n",
      "Generation 9 - Current best internal CV score: 0.9372664437012264\n",
      "Generation 10 - Current best internal CV score: 0.9379331103678931\n",
      "\n",
      "Best pipeline: GaussianNB(LinearSVC(XGBClassifier(SelectPercentile(input_matrix, percentile=67), learning_rate=0.5, max_depth=5, min_child_weight=1, n_estimators=100, nthread=1, subsample=0.55), C=0.5, dual=True, loss=squared_hinge, penalty=l2, tol=1e-05))\n",
      "Imputing missing values in feature set\n",
      "0.928\n"
     ]
    },
    {
     "name": "stderr",
     "output_type": "stream",
     "text": [
      "/Users/mannika/opt/anaconda3/lib/python3.7/site-packages/sklearn/utils/validation.py:760: DataConversionWarning: A column-vector y was passed when a 1d array was expected. Please change the shape of y to (n_samples, ), for example using ravel().\n",
      "  y = column_or_1d(y, warn=True)\n"
     ]
    }
   ],
   "source": [
    "# TPOT\n",
    "\n",
    "x_= X.drop(\"pnn50\",1)\n",
    "x_ = scaler.fit_transform(x_)\n",
    "from sklearn.model_selection import train_test_split\n",
    "from sklearn.neural_network import MLPClassifier\n",
    "from sklearn.model_selection import StratifiedKFold\n",
    "from sklearn.model_selection import GridSearchCV \n",
    "from tpot import TPOTClassifier\n",
    "%matplotlib inline\n",
    "import matplotlib.pyplot as plt\n",
    "from scipy import signal \n",
    "import pickle\n",
    "\n",
    "\n",
    "import sklearn.metrics\n",
    "from sklearn.model_selection import cross_val_score\n",
    "from sklearn import svm\n",
    "import numpy as np\n",
    "import pandas as pd\n",
    "from sklearn.metrics import precision_recall_fscore_support \n",
    "y = l\n",
    "\n",
    "x_ = X.drop('pnn50',1)\n",
    "x_ = scaler.fit_transform(x_)\n",
    "\n",
    "# print(x_.head())\n",
    "def do_tpot(generations=5, population_size=10,X='',y=''):\n",
    "\n",
    "    X_train, X_test, y_train, y_test = train_test_split(X, y,\n",
    "                                                        train_size=0.80, test_size=0.20)\n",
    "\n",
    "    tpot = TPOTClassifier(generations=generations, population_size=population_size, verbosity=2 ,cv=5)\n",
    "    tpot.fit(X_train, y_train)\n",
    "    print(tpot.score(X_test, y_test))\n",
    "    tpot.export('tpot_pipeline.py')\n",
    "    return tpot\n",
    "\n",
    "tpot_classifer = do_tpot(generations=10, population_size=20,X=x_,y=l)"
   ]
  },
  {
   "cell_type": "code",
   "execution_count": 36,
   "metadata": {},
   "outputs": [
    {
     "name": "stdout",
     "output_type": "stream",
     "text": [
      "Imputing missing values in feature set\n",
      "Accuracy is:  0.984\n",
      "F [0.97727273 0.98765432]\n"
     ]
    },
    {
     "name": "stderr",
     "output_type": "stream",
     "text": [
      "/Users/mannika/opt/anaconda3/lib/python3.7/site-packages/numpy/core/_asarray.py:85: UserWarning: Warning: converting a masked element to nan.\n",
      "  return array(a, dtype, copy=False, order=order)\n",
      "/Users/mannika/opt/anaconda3/lib/python3.7/site-packages/numpy/core/_asarray.py:85: UserWarning: Warning: converting a masked element to nan.\n",
      "  return array(a, dtype, copy=False, order=order)\n"
     ]
    }
   ],
   "source": [
    "from sklearn.metrics import confusion_matrix, accuracy_score\n",
    "from sklearn.metrics import f1_score\n",
    "from sklearn.preprocessing import MinMaxScaler\n",
    "\n",
    "\n",
    "\n",
    "\n",
    "x_ = X.drop('pnn50',1)\n",
    "x_ = scaler.fit_transform(x_)\n",
    "X_train, X_test, y_train, y_test = train_test_split(x_, y,\n",
    "                                                        train_size=0.80, test_size=0.20)\n",
    "\n",
    "y_pred = tpot_classifer.predict(X_test)\n",
    "print (\"Accuracy is: \",  accuracy_score(y_test, y_pred))\n",
    "print(\"F\",f1_score(y_test, y_pred, average=None))"
   ]
  },
  {
   "cell_type": "code",
   "execution_count": 40,
   "metadata": {},
   "outputs": [
    {
     "name": "stderr",
     "output_type": "stream",
     "text": [
      "/Users/mannika/opt/anaconda3/lib/python3.7/site-packages/numpy/core/_asarray.py:85: UserWarning: Warning: converting a masked element to nan.\n",
      "  return array(a, dtype, copy=False, order=order)\n",
      "/Users/mannika/opt/anaconda3/lib/python3.7/site-packages/numpy/core/_asarray.py:85: UserWarning: Warning: converting a masked element to nan.\n",
      "  return array(a, dtype, copy=False, order=order)\n"
     ]
    },
    {
     "name": "stdout",
     "output_type": "stream",
     "text": [
      "Imputing missing values in feature set\n"
     ]
    },
    {
     "data": {
      "image/png": "[encoded data removed]",
      "text/plain": [
       "<Figure size 432x288 with 1 Axes>"
      ]
     },
     "metadata": {
      "needs_background": "light"
     },
     "output_type": "display_data"
    }
   ],
   "source": [
    "test_df = frames[5]\n",
    "#test_df = test_df.drop(\"pnn50\",1)\n",
    "test_df = scaler.fit_transform(test_df)\n",
    "test_df = pd.DataFrame(test_df)\n",
    "dfnewHRV=test_df\n",
    "predictor = tpot_classifer\n",
    "\n",
    "dfnewHRV = dfnewHRV.fillna(dfnewHRV.mean())\n",
    "dfnewPol = dfnewHRV.fillna(0)\n",
    "\n",
    "pred = tpot_classifer.predict(dfnewPol)\n",
    "\n",
    "stress_val = pred\n",
    "\n",
    "x = round((4*256)-(0.1*256))\n",
    "stress =  [ele for ele in stress_val for i in range(x) ]\n",
    "df = ppg[5]\n",
    "df.replace([np.inf, -np.inf], 0)\n",
    "data = df.to_numpy()\n",
    "data = data.flatten()\n",
    "data = np.nan_to_num(data)\n",
    "data_ppg = signal.detrend(data)\n",
    "\n",
    "l = min(len(stress),len(data_ppg))\n",
    "# stress[stress == 0] = np.nan\n",
    "d = {'normal':data_ppg[0:l],'stress':stress[0:l]}\n",
    "df = pd.DataFrame(d)\n",
    "dfnewHRV = df\n",
    "\n",
    "dfnewHRV.loc[dfnewHRV[\"stress\"] == 1, 'stress'] = dfnewHRV['normal'] \n",
    "## all the data\n",
    "# from itertools import cycle, islice\n",
    "# my_colors = list(islice(cycle(['b', 'r', 'k']), None, len(dfnewHRV)))\n",
    "# plot = dfnewHRV.plot(y=['interval in seconds',\"stress\"],color=my_colors)\n",
    "\n",
    "# fig = plot.get_figure()\n",
    "##  1000 data points\n",
    "from itertools import cycle, islice\n",
    "df = dfnewHRV.iloc[10000:15120]\n",
    "my_colors = list(islice(cycle(['b', 'r']), None, len(df)))\n",
    "plot = df.plot(y=['normal',\"stress\"],color=my_colors)\n",
    "\n",
    "fig = plot.get_figure()"
   ]
  },
  {
   "cell_type": "markdown",
   "metadata": {},
   "source": [
    "## XG Boost"
   ]
  },
  {
   "cell_type": "code",
   "execution_count": 45,
   "metadata": {},
   "outputs": [
    {
     "name": "stdout",
     "output_type": "stream",
     "text": [
      "Performing XG boositng\n",
      "Accuracy is:  0.9253333333333333\n",
      "F [0.87719298 0.94636015]\n",
      "Done!\n"
     ]
    }
   ],
   "source": [
    "import pandas as pd\n",
    "from sklearn.metrics import precision_recall_fscore_support\n",
    "from sklearn.utils.multiclass import unique_labels\n",
    "from sklearn.metrics import confusion_matrix\n",
    "from sklearn.model_selection import train_test_split\n",
    "from sklearn.preprocessing import scale\n",
    "from sklearn.feature_selection import VarianceThreshold\n",
    "from sklearn.decomposition import PCA\n",
    "from xgboost import XGBClassifier\n",
    "\n",
    "X = x_\n",
    "y = label \n",
    "\n",
    "\n",
    "y = y.to_numpy()\n",
    "pdA = pd.DataFrame.from_records(X)\n",
    "\n",
    "        \n",
    "X_train, X_test, y_train, y_test = train_test_split( X, y, test_size=0.2, random_state=42)\n",
    "\n",
    "print(\"Performing XG boositng\")\n",
    "\n",
    "\n",
    "gbreg = XGBClassifier(n_estimators=100,n_jobs=-1,learning_rate=0.1,verbose=True)\n",
    "\n",
    "# from sklearn.model_selection import ShuffleSplit\n",
    "# from sklearn.model_selection import cross_val_score\n",
    "# ss=ShuffleSplit(n_splits=10, test_size=0.2, random_state=10)\n",
    "# scores = cross_val_score(gbreg, X,y, cv=ss,n_jobs=-1, verbose=1)\n",
    "# print(np.mean(scores)) \n",
    "# print(scores) \n",
    "\n",
    "gbreg.fit(X_train,y_train)\n",
    "y_pred=gbreg.predict(X_test)\n",
    "print (\"Accuracy is: \",  accuracy_score(y_test, y_pred))\n",
    "print(\"F\",f1_score(y_test, y_pred, average=None))\n",
    "print(\"Done!\")"
   ]
  },
  {
   "cell_type": "markdown",
   "metadata": {},
   "source": [
    "## Random Forest"
   ]
  },
  {
   "cell_type": "code",
   "execution_count": 48,
   "metadata": {},
   "outputs": [
    {
     "name": "stdout",
     "output_type": "stream",
     "text": [
      "Performing random Forests\n"
     ]
    },
    {
     "name": "stderr",
     "output_type": "stream",
     "text": [
      "/Users/mannika/opt/anaconda3/lib/python3.7/site-packages/sklearn/preprocessing/_label.py:235: DataConversionWarning: A column-vector y was passed when a 1d array was expected. Please change the shape of y to (n_samples, ), for example using ravel().\n",
      "  y = column_or_1d(y, warn=True)\n",
      "/Users/mannika/opt/anaconda3/lib/python3.7/site-packages/sklearn/preprocessing/_label.py:268: DataConversionWarning: A column-vector y was passed when a 1d array was expected. Please change the shape of y to (n_samples, ), for example using ravel().\n",
      "  y = column_or_1d(y, warn=True)\n"
     ]
    },
    {
     "name": "stdout",
     "output_type": "stream",
     "text": [
      "Accuracy is:  0.92\n",
      "F [0.86607143 0.94296578]\n",
      "Done!\n"
     ]
    }
   ],
   "source": [
    "import pandas as pd\n",
    "from sklearn.ensemble import RandomForestClassifier, VotingClassifier\n",
    "from sklearn.metrics import precision_recall_fscore_support\n",
    "from sklearn.utils.multiclass import unique_labels\n",
    "from sklearn.metrics import confusion_matrix, accuracy_score\n",
    "from sklearn.model_selection import train_test_split\n",
    "from sklearn.preprocessing import scale\n",
    "\n",
    "from sklearn.metrics import f1_score\n",
    "\n",
    "x_ = pd.DataFrame(x_)\n",
    "x_ = x_.replace([np.inf, -np.inf], np.nan)\n",
    "x_ = x_.fillna(0)\n",
    "X = x_\n",
    "y = label\n",
    "\n",
    "y = y.to_numpy()\n",
    "\n",
    "X_train, X_test, y_train, y_test = train_test_split( X, y, test_size=0.2, random_state=42)\n",
    "\n",
    "print(\"Performing random Forests\")\n",
    "\n",
    "rfreg1= RandomForestClassifier(n_jobs=-1, n_estimators=50, oob_score = True) \n",
    "rfreg2= RandomForestClassifier(n_jobs=-1, n_estimators=80, oob_score = True) \n",
    "rfreg3= RandomForestClassifier(n_jobs=-1, n_estimators=100, oob_score = True)\n",
    "vot= VotingClassifier(estimators=[('r1', rfreg1), ('r2', rfreg2), ('r3', rfreg3)], voting='hard')\n",
    "vot= vot.fit(X_train, y_train)\n",
    "\n",
    "# from sklearn.model_selection import ShuffleSplit\n",
    "# from sklearn.model_selection import cross_val_score\n",
    "# ss=ShuffleSplit(n_splits=5, test_size=0.2, random_state=10)\n",
    "# scores = cross_val_score(vot, X,y, cv=ss,n_jobs=-1, verbose=1)\n",
    "# print(np.mean(scores))\n",
    "# print(scores) \n",
    "\n",
    "# rfreg.fit(X_train,y_train)\n",
    "y_pred=vot.predict(X_test)\n",
    "print (\"Accuracy is: \",  accuracy_score(y_test, y_pred))\n",
    "print(\"F\", f1_score(y_test, y_pred, average=None))\n",
    "\n",
    "print(\"Done!\")\n"
   ]
  },
  {
   "cell_type": "code",
   "execution_count": 49,
   "metadata": {},
   "outputs": [
    {
     "name": "stdout",
     "output_type": "stream",
     "text": [
      "Performing gradient boositng\n"
     ]
    },
    {
     "name": "stderr",
     "output_type": "stream",
     "text": [
      "[Parallel(n_jobs=-1)]: Using backend LokyBackend with 8 concurrent workers.\n",
      "[Parallel(n_jobs=-1)]: Done   6 out of  10 | elapsed:    1.1s remaining:    0.7s\n",
      "[Parallel(n_jobs=-1)]: Done  10 out of  10 | elapsed:    1.5s finished\n",
      "/Users/mannika/opt/anaconda3/lib/python3.7/site-packages/sklearn/preprocessing/_label.py:235: DataConversionWarning: A column-vector y was passed when a 1d array was expected. Please change the shape of y to (n_samples, ), for example using ravel().\n",
      "  y = column_or_1d(y, warn=True)\n",
      "/Users/mannika/opt/anaconda3/lib/python3.7/site-packages/sklearn/preprocessing/_label.py:268: DataConversionWarning: A column-vector y was passed when a 1d array was expected. Please change the shape of y to (n_samples, ), for example using ravel().\n",
      "  y = column_or_1d(y, warn=True)\n"
     ]
    },
    {
     "name": "stdout",
     "output_type": "stream",
     "text": [
      "0.9301333333333333\n",
      "[0.91733333 0.928      0.93866667 0.944      0.944      0.928\n",
      " 0.904      0.92       0.93333333 0.944     ]\n",
      "Accuracy is:  0.912\n",
      "F [0.85333333 0.93714286]\n"
     ]
    }
   ],
   "source": [
    "import pandas as pd\n",
    "from sklearn.ensemble import GradientBoostingClassifier, VotingClassifier\n",
    "from sklearn.metrics import precision_recall_fscore_support\n",
    "from sklearn.utils.multiclass import unique_labels\n",
    "from sklearn.metrics import confusion_matrix, accuracy_score\n",
    "from sklearn.model_selection import train_test_split\n",
    "from sklearn.preprocessing import scale\n",
    "\n",
    "\n",
    "\n",
    "X = x_\n",
    "y = label\n",
    "\n",
    "y = y.to_numpy()\n",
    "\n",
    "X_train, X_test, y_train, y_test = train_test_split( X, y, test_size=0.2, random_state=42)\n",
    "\n",
    "print(\"Performing gradient boositng\")\n",
    "\n",
    "gbreg1 = GradientBoostingClassifier(n_estimators= 20, max_depth= 10, min_samples_split=2, min_samples_leaf=3, learning_rate=0.1, subsample=0.5)\n",
    "gbreg2= GradientBoostingClassifier(n_estimators= 25, max_depth= 10, min_samples_leaf=5, min_samples_split=2, learning_rate=0.1, subsample=0.5)\n",
    "gbreg3 = GradientBoostingClassifier(n_estimators= 20, max_depth= 10, min_samples_leaf=5, min_samples_split=2, learning_rate=0.1, subsample=0.5)\n",
    "# gbreg4 = GradientBoostingClassifier(random_state=44,n_estimators= 35)\n",
    "# gbreg5 = GradientBoostingClassifier(random_state=55,n_estimators= 40)\n",
    "vot= VotingClassifier(estimators=[('r1', gbreg1), ('r2', gbreg2), ('r3', gbreg3)], voting= 'hard')\n",
    "\n",
    "from sklearn.model_selection import ShuffleSplit\n",
    "from sklearn.model_selection import cross_val_score\n",
    "ss=ShuffleSplit(n_splits=10, test_size=0.2, random_state=10)\n",
    "scores = cross_val_score(vot, X,y, cv=ss,n_jobs=-1, verbose=1)\n",
    "print(np.mean(scores))\n",
    "print(scores) \n",
    "\n",
    "vot= vot.fit(X_train, y_train)\n",
    "# gbreg.fit(X_train,y_train) \n",
    "y_pred=vot.predict(X_test)\n",
    "print (\"Accuracy is: \",  accuracy_score(y_test, y_pred))\n",
    "print(\"F\",f1_score(y_test, y_pred, average=None))\n",
    "# conf=confusion_matrix(y_test,y_pred , sample_weight=None)\n"
   ]
  },
  {
   "cell_type": "code",
   "execution_count": null,
   "metadata": {},
   "outputs": [],
   "source": []
  }
 ],
 "metadata": {
  "kernelspec": {
   "display_name": "Python 3",
   "language": "python",
   "name": "python3"
  },
  "language_info": {
   "codemirror_mode": {
    "name": "ipython",
    "version": 3
   },
   "file_extension": ".py",
   "mimetype": "text/x-python",
   "name": "python",
   "nbconvert_exporter": "python",
   "pygments_lexer": "ipython3",
   "version": "3.7.6"
  }
 },
 "nbformat": 4,
 "nbformat_minor": 2
}
